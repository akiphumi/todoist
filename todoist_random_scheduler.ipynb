{
  "nbformat": 4,
  "nbformat_minor": 0,
  "metadata": {
    "colab": {
      "name": "todoist_random_scheduler.ipynb",
      "provenance": [],
      "private_outputs": true,
      "collapsed_sections": [],
      "include_colab_link": true
    },
    "kernelspec": {
      "name": "python3",
      "display_name": "Python 3"
    }
  },
  "cells": [
    {
      "cell_type": "markdown",
      "metadata": {
        "id": "view-in-github",
        "colab_type": "text"
      },
      "source": [
        "<a href=\"https://colab.research.google.com/github/akiphumi/todoist/blob/master/todoist_random_scheduler.ipynb\" target=\"_parent\"><img src=\"https://colab.research.google.com/assets/colab-badge.svg\" alt=\"Open In Colab\"/></a>"
      ]
    },
    {
      "cell_type": "markdown",
      "metadata": {
        "id": "8POWx8IH6fR_",
        "colab_type": "text"
      },
      "source": [
        "* [Gets and prints the tasks for \"today\", from the Todoist API. Intended to be used alongside https://github.com/Doist/todoist-python.](https://gist.github.com/fpapado/9e1e6bd133664376eaa5f6855712f28b)\n",
        "* [API Documentation | Todoist Developer](https://developer.todoist.com/sync/v8/?python#)\n",
        "* [todoist-python/test_api.py at master · Doist/todoist-python](https://github.com/Doist/todoist-python/blob/master/tests/test_api.py)"
      ]
    },
    {
      "cell_type": "markdown",
      "metadata": {
        "id": "fZ88fUL2fBXP",
        "colab_type": "text"
      },
      "source": [
        "### ライブラリのインストール"
      ]
    },
    {
      "cell_type": "code",
      "metadata": {
        "id": "L12pwl6uYErP",
        "colab_type": "code",
        "colab": {}
      },
      "source": [
        "! pip install todoist-python"
      ],
      "execution_count": 0,
      "outputs": []
    },
    {
      "cell_type": "markdown",
      "metadata": {
        "id": "R465k6maeb53",
        "colab_type": "text"
      },
      "source": [
        "### ライブラリのインポートと同期\n",
        "[HTTP request limits · Issue #18 · Garee/pytodoist](https://github.com/Garee/pytodoist/issues/18)"
      ]
    },
    {
      "cell_type": "code",
      "metadata": {
        "id": "hgXDwegUX3x5",
        "colab_type": "code",
        "colab": {}
      },
      "source": [
        "import random\n",
        "import time\n",
        "from todoist.api import TodoistAPI\n",
        "from tqdm import tqdm\n",
        "\n",
        "# API token は Settting の Interations で確認\n",
        "token = '0123456789abcdef0123456789abcdef01234567'\n",
        "\n",
        "api = TodoistAPI(token)\n",
        "api.sync()"
      ],
      "execution_count": 0,
      "outputs": []
    },
    {
      "cell_type": "markdown",
      "metadata": {
        "id": "eD6QSe_wygBs",
        "colab_type": "text"
      },
      "source": [
        "## 1分間に50回の同期に制限\n",
        "[HTTP request limits · Issue #18 · Garee/pytodoist](https://github.com/Garee/pytodoist/issues/18)"
      ]
    },
    {
      "cell_type": "code",
      "metadata": {
        "id": "Xhtx1qFkv8B-",
        "colab_type": "code",
        "colab": {}
      },
      "source": [
        "# Add to the top of your code before you start using the API.\n",
        "\n",
        "# Decorator to limit a function call to X per second.\n",
        "# Credit: http://blog.gregburek.com/2011/12/05/Rate-limiting-with-decorators/\n",
        "def rate_limit(maxPerSecond):\n",
        "    minInterval = 1.0 / float(maxPerSecond)\n",
        "    \n",
        "    def decorate(func):\n",
        "        lastTimeCalled = [0.0]\n",
        "        \n",
        "        def rateLimitedFunction(*args, **kargs):\n",
        "            elapsed = time.clock() - lastTimeCalled[0]\n",
        "            leftToWait = minInterval - elapsed\n",
        "            if leftToWait > 0:\n",
        "                time.sleep(leftToWait)\n",
        "            ret = func(*args, **kargs)\n",
        "            lastTimeCalled[0] = time.clock()\n",
        "            return ret\n",
        " \n",
        "        return rateLimitedFunction\n",
        "    return decorate\n",
        "\n",
        "# The normal sync function\n",
        "commit = api.commit\n",
        "\n",
        "# The rate limited version of the sync function\n",
        "@rate_limit(0.8)  # 50/60 = 0.833...\n",
        "def rate_limited_commit(*args):\n",
        "#     print(\"Syncing...\")\n",
        "    return commit(*args)\n",
        "\n",
        "# Use the rate limited sync function\n",
        "api.commit = rate_limited_commit"
      ],
      "execution_count": 0,
      "outputs": []
    },
    {
      "cell_type": "markdown",
      "metadata": {
        "id": "6mPfiZ2YwBgL",
        "colab_type": "text"
      },
      "source": [
        "## ラベルの辞書を作って"
      ]
    },
    {
      "cell_type": "code",
      "metadata": {
        "id": "1sPkoqNrpmNZ",
        "colab_type": "code",
        "colab": {}
      },
      "source": [
        "labels = {}\n",
        "for label in api.state['labels']:\n",
        "  labels.setdefault(label['name'], label['id'])\n",
        "print(labels)"
      ],
      "execution_count": 0,
      "outputs": []
    },
    {
      "cell_type": "markdown",
      "metadata": {
        "id": "_qeINg9MwFA0",
        "colab_type": "text"
      },
      "source": [
        "## アイテムのリストを作って"
      ]
    },
    {
      "cell_type": "code",
      "metadata": {
        "id": "qdlkpxrjqVkf",
        "colab_type": "code",
        "colab": {}
      },
      "source": [
        "items = []\n",
        "# 同期したいラベルを指定\n",
        "key = 'next'\n",
        "for item in api.state['items']:\n",
        "  if labels.get(key) in item['labels']:\n",
        "    items.append(item['id'])\n",
        "print(items)"
      ],
      "execution_count": 0,
      "outputs": []
    },
    {
      "cell_type": "markdown",
      "metadata": {
        "id": "s1J6TYY3wKca",
        "colab_type": "text"
      },
      "source": [
        "## Daily Goalの数だけランダムに選択"
      ]
    },
    {
      "cell_type": "code",
      "metadata": {
        "id": "HXMYi0rJuPCF",
        "colab_type": "code",
        "colab": {}
      },
      "source": [
        "daily_goals = random.sample(items, api.state['user']['daily_goal'])\n",
        "print(daily_goals)"
      ],
      "execution_count": 0,
      "outputs": []
    },
    {
      "cell_type": "markdown",
      "metadata": {
        "id": "4GymtMV1yuOb",
        "colab_type": "text"
      },
      "source": [
        "## 実行"
      ]
    },
    {
      "cell_type": "code",
      "metadata": {
        "id": "cf1yGhDTxHFb",
        "colab_type": "code",
        "colab": {}
      },
      "source": [
        "for item in tqdm(api.state['items']):\n",
        "  if item['id'] in daily_goals:\n",
        "    item.update(due={'string': 'today'})\n",
        "    api.commit()"
      ],
      "execution_count": 0,
      "outputs": []
    }
  ]
}